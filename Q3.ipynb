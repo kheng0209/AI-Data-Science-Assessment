{
  "nbformat": 4,
  "nbformat_minor": 0,
  "metadata": {
    "colab": {
      "name": "Q3.ipynb",
      "provenance": [],
      "collapsed_sections": [],
      "authorship_tag": "ABX9TyO27haWKDUNC+duq46tk3rX"
    },
    "kernelspec": {
      "name": "python3",
      "display_name": "Python 3"
    },
    "language_info": {
      "name": "python"
    }
  },
  "cells": [
    {
      "cell_type": "markdown",
      "source": [
        "3) Feed the following paragraph into your favourite data analytics tool, and answer the following;"
      ],
      "metadata": {
        "id": "8LF7l45NCgO4"
      }
    },
    {
      "cell_type": "markdown",
      "source": [
        "a. What is the probability of the word “data” occurring in each line ?"
      ],
      "metadata": {
        "id": "b9f2FTtJF0X9"
      }
    },
    {
      "cell_type": "code",
      "source": [
        "sentences = \"\"\"As a term, data analytics predominantly refers to an assortment of applications, from basic business \n",
        "intelligence (BI), reporting and online analytical processing (OLAP) to various forms of advanced \n",
        "analytics. In that sense, it's similar in nature to business analytics, another umbrella term for \n",
        "approaches to analyzing data -- with the difference that the latter is oriented to business uses, while \n",
        "data analytics has a broader focus. The expansive view of the term isn't universal, though: In some \n",
        "cases, people use data analytics specifically to mean advanced analytics, treating BI as a separate \n",
        "category. Data analytics initiatives can help businesses increase revenues, improve operational \n",
        "efficiency, optimize marketing campaigns and customer service efforts, respond more quickly to \n",
        "emerging market trends and gain a competitive edge over rivals -- all with the ultimate goal of \n",
        "boosting business performance. Depending on the particular application, the data that's analyzed \n",
        "can consist of either historical records or new information that has been processed for real-time \n",
        "analytics uses. In addition, it can come from a mix of internal systems and external data sources. At \n",
        "a high level, data analytics methodologies include exploratory data analysis (EDA), which aims to find \n",
        "patterns and relationships in data, and confirmatory data analysis (CDA), which applies statistical \n",
        "techniques to determine whether hypotheses about a data set are true or false. EDA is often \n",
        "compared to detective work, while CDA is akin to the work of a judge or jury during a court trial -- a \n",
        "distinction first drawn by statistician John W. Tukey in his 1977 book Exploratory Data Analysis. Data \n",
        "analytics can also be separated into quantitative data analysis and qualitative data analysis. The \n",
        "former involves analysis of numerical data with quantifiable variables that can be compared or \n",
        "measured statistically. The qualitative approach is more interpretive -- it focuses on understanding \n",
        "the content of non-numerical data like text, images, audio and video, including common phrases, \n",
        "themes and points of view.\"\"\"\n",
        "print(sentences)"
      ],
      "metadata": {
        "colab": {
          "base_uri": "https://localhost:8080/"
        },
        "id": "RfuJOSlWesQb",
        "outputId": "e6fabb61-8acc-467d-aaca-ba8ec5abe1a5"
      },
      "execution_count": 1,
      "outputs": [
        {
          "output_type": "stream",
          "name": "stdout",
          "text": [
            "As a term, data analytics predominantly refers to an assortment of applications, from basic business \n",
            "intelligence (BI), reporting and online analytical processing (OLAP) to various forms of advanced \n",
            "analytics. In that sense, it's similar in nature to business analytics, another umbrella term for \n",
            "approaches to analyzing data -- with the difference that the latter is oriented to business uses, while \n",
            "data analytics has a broader focus. The expansive view of the term isn't universal, though: In some \n",
            "cases, people use data analytics specifically to mean advanced analytics, treating BI as a separate \n",
            "category. Data analytics initiatives can help businesses increase revenues, improve operational \n",
            "efficiency, optimize marketing campaigns and customer service efforts, respond more quickly to \n",
            "emerging market trends and gain a competitive edge over rivals -- all with the ultimate goal of \n",
            "boosting business performance. Depending on the particular application, the data that's analyzed \n",
            "can consist of either historical records or new information that has been processed for real-time \n",
            "analytics uses. In addition, it can come from a mix of internal systems and external data sources. At \n",
            "a high level, data analytics methodologies include exploratory data analysis (EDA), which aims to find \n",
            "patterns and relationships in data, and confirmatory data analysis (CDA), which applies statistical \n",
            "techniques to determine whether hypotheses about a data set are true or false. EDA is often \n",
            "compared to detective work, while CDA is akin to the work of a judge or jury during a court trial -- a \n",
            "distinction first drawn by statistician John W. Tukey in his 1977 book Exploratory Data Analysis. Data \n",
            "analytics can also be separated into quantitative data analysis and qualitative data analysis. The \n",
            "former involves analysis of numerical data with quantifiable variables that can be compared or \n",
            "measured statistically. The qualitative approach is more interpretive -- it focuses on understanding \n",
            "the content of non-numerical data like text, images, audio and video, including common phrases, \n",
            "themes and points of view.\n"
          ]
        }
      ]
    },
    {
      "cell_type": "code",
      "source": [
        "#Convert text to lowercase\n",
        "sentences = sentences.lower()\n",
        "print(sentences)"
      ],
      "metadata": {
        "colab": {
          "base_uri": "https://localhost:8080/"
        },
        "id": "WJzKVEpKoOHW",
        "outputId": "0cee3394-6678-42f4-b977-b087c6ffb28a"
      },
      "execution_count": 2,
      "outputs": [
        {
          "output_type": "stream",
          "name": "stdout",
          "text": [
            "as a term, data analytics predominantly refers to an assortment of applications, from basic business \n",
            "intelligence (bi), reporting and online analytical processing (olap) to various forms of advanced \n",
            "analytics. in that sense, it's similar in nature to business analytics, another umbrella term for \n",
            "approaches to analyzing data -- with the difference that the latter is oriented to business uses, while \n",
            "data analytics has a broader focus. the expansive view of the term isn't universal, though: in some \n",
            "cases, people use data analytics specifically to mean advanced analytics, treating bi as a separate \n",
            "category. data analytics initiatives can help businesses increase revenues, improve operational \n",
            "efficiency, optimize marketing campaigns and customer service efforts, respond more quickly to \n",
            "emerging market trends and gain a competitive edge over rivals -- all with the ultimate goal of \n",
            "boosting business performance. depending on the particular application, the data that's analyzed \n",
            "can consist of either historical records or new information that has been processed for real-time \n",
            "analytics uses. in addition, it can come from a mix of internal systems and external data sources. at \n",
            "a high level, data analytics methodologies include exploratory data analysis (eda), which aims to find \n",
            "patterns and relationships in data, and confirmatory data analysis (cda), which applies statistical \n",
            "techniques to determine whether hypotheses about a data set are true or false. eda is often \n",
            "compared to detective work, while cda is akin to the work of a judge or jury during a court trial -- a \n",
            "distinction first drawn by statistician john w. tukey in his 1977 book exploratory data analysis. data \n",
            "analytics can also be separated into quantitative data analysis and qualitative data analysis. the \n",
            "former involves analysis of numerical data with quantifiable variables that can be compared or \n",
            "measured statistically. the qualitative approach is more interpretive -- it focuses on understanding \n",
            "the content of non-numerical data like text, images, audio and video, including common phrases, \n",
            "themes and points of view.\n"
          ]
        }
      ]
    },
    {
      "cell_type": "code",
      "source": [
        "#Remove numbers\n",
        "import re\n",
        "sentences = re.sub(r'\\d+', '', sentences)\n",
        "print(sentences)"
      ],
      "metadata": {
        "colab": {
          "base_uri": "https://localhost:8080/"
        },
        "id": "9qR4gfz6oUCP",
        "outputId": "3001a51a-b2b8-4b28-f70f-c51c4ecfdd2c"
      },
      "execution_count": 3,
      "outputs": [
        {
          "output_type": "stream",
          "name": "stdout",
          "text": [
            "as a term, data analytics predominantly refers to an assortment of applications, from basic business \n",
            "intelligence (bi), reporting and online analytical processing (olap) to various forms of advanced \n",
            "analytics. in that sense, it's similar in nature to business analytics, another umbrella term for \n",
            "approaches to analyzing data -- with the difference that the latter is oriented to business uses, while \n",
            "data analytics has a broader focus. the expansive view of the term isn't universal, though: in some \n",
            "cases, people use data analytics specifically to mean advanced analytics, treating bi as a separate \n",
            "category. data analytics initiatives can help businesses increase revenues, improve operational \n",
            "efficiency, optimize marketing campaigns and customer service efforts, respond more quickly to \n",
            "emerging market trends and gain a competitive edge over rivals -- all with the ultimate goal of \n",
            "boosting business performance. depending on the particular application, the data that's analyzed \n",
            "can consist of either historical records or new information that has been processed for real-time \n",
            "analytics uses. in addition, it can come from a mix of internal systems and external data sources. at \n",
            "a high level, data analytics methodologies include exploratory data analysis (eda), which aims to find \n",
            "patterns and relationships in data, and confirmatory data analysis (cda), which applies statistical \n",
            "techniques to determine whether hypotheses about a data set are true or false. eda is often \n",
            "compared to detective work, while cda is akin to the work of a judge or jury during a court trial -- a \n",
            "distinction first drawn by statistician john w. tukey in his  book exploratory data analysis. data \n",
            "analytics can also be separated into quantitative data analysis and qualitative data analysis. the \n",
            "former involves analysis of numerical data with quantifiable variables that can be compared or \n",
            "measured statistically. the qualitative approach is more interpretive -- it focuses on understanding \n",
            "the content of non-numerical data like text, images, audio and video, including common phrases, \n",
            "themes and points of view.\n"
          ]
        }
      ]
    },
    {
      "cell_type": "code",
      "source": [
        "#Remove punctuation\n",
        "import string\n",
        "sentences = sentences.translate(str.maketrans('','', string.punctuation))\n",
        "print(sentences)"
      ],
      "metadata": {
        "colab": {
          "base_uri": "https://localhost:8080/"
        },
        "id": "6WnIQ04-pBRi",
        "outputId": "60ce2477-43dd-463d-d769-d05147fab6c8"
      },
      "execution_count": 4,
      "outputs": [
        {
          "output_type": "stream",
          "name": "stdout",
          "text": [
            "as a term data analytics predominantly refers to an assortment of applications from basic business \n",
            "intelligence bi reporting and online analytical processing olap to various forms of advanced \n",
            "analytics in that sense its similar in nature to business analytics another umbrella term for \n",
            "approaches to analyzing data  with the difference that the latter is oriented to business uses while \n",
            "data analytics has a broader focus the expansive view of the term isnt universal though in some \n",
            "cases people use data analytics specifically to mean advanced analytics treating bi as a separate \n",
            "category data analytics initiatives can help businesses increase revenues improve operational \n",
            "efficiency optimize marketing campaigns and customer service efforts respond more quickly to \n",
            "emerging market trends and gain a competitive edge over rivals  all with the ultimate goal of \n",
            "boosting business performance depending on the particular application the data thats analyzed \n",
            "can consist of either historical records or new information that has been processed for realtime \n",
            "analytics uses in addition it can come from a mix of internal systems and external data sources at \n",
            "a high level data analytics methodologies include exploratory data analysis eda which aims to find \n",
            "patterns and relationships in data and confirmatory data analysis cda which applies statistical \n",
            "techniques to determine whether hypotheses about a data set are true or false eda is often \n",
            "compared to detective work while cda is akin to the work of a judge or jury during a court trial  a \n",
            "distinction first drawn by statistician john w tukey in his  book exploratory data analysis data \n",
            "analytics can also be separated into quantitative data analysis and qualitative data analysis the \n",
            "former involves analysis of numerical data with quantifiable variables that can be compared or \n",
            "measured statistically the qualitative approach is more interpretive  it focuses on understanding \n",
            "the content of nonnumerical data like text images audio and video including common phrases \n",
            "themes and points of view\n"
          ]
        }
      ]
    },
    {
      "cell_type": "code",
      "source": [
        "#Remove whitespace\n",
        "sentences = sentences.strip()\n",
        "print(sentences)"
      ],
      "metadata": {
        "id": "vTheMpGwo_IG",
        "colab": {
          "base_uri": "https://localhost:8080/"
        },
        "outputId": "d34451d5-82bd-4afe-bda2-c2b5c979448a"
      },
      "execution_count": 5,
      "outputs": [
        {
          "output_type": "stream",
          "name": "stdout",
          "text": [
            "as a term data analytics predominantly refers to an assortment of applications from basic business \n",
            "intelligence bi reporting and online analytical processing olap to various forms of advanced \n",
            "analytics in that sense its similar in nature to business analytics another umbrella term for \n",
            "approaches to analyzing data  with the difference that the latter is oriented to business uses while \n",
            "data analytics has a broader focus the expansive view of the term isnt universal though in some \n",
            "cases people use data analytics specifically to mean advanced analytics treating bi as a separate \n",
            "category data analytics initiatives can help businesses increase revenues improve operational \n",
            "efficiency optimize marketing campaigns and customer service efforts respond more quickly to \n",
            "emerging market trends and gain a competitive edge over rivals  all with the ultimate goal of \n",
            "boosting business performance depending on the particular application the data thats analyzed \n",
            "can consist of either historical records or new information that has been processed for realtime \n",
            "analytics uses in addition it can come from a mix of internal systems and external data sources at \n",
            "a high level data analytics methodologies include exploratory data analysis eda which aims to find \n",
            "patterns and relationships in data and confirmatory data analysis cda which applies statistical \n",
            "techniques to determine whether hypotheses about a data set are true or false eda is often \n",
            "compared to detective work while cda is akin to the work of a judge or jury during a court trial  a \n",
            "distinction first drawn by statistician john w tukey in his  book exploratory data analysis data \n",
            "analytics can also be separated into quantitative data analysis and qualitative data analysis the \n",
            "former involves analysis of numerical data with quantifiable variables that can be compared or \n",
            "measured statistically the qualitative approach is more interpretive  it focuses on understanding \n",
            "the content of nonnumerical data like text images audio and video including common phrases \n",
            "themes and points of view\n"
          ]
        }
      ]
    },
    {
      "cell_type": "code",
      "source": [
        "#Split a string into a list\n",
        "list_sentence = sentences.splitlines()\n",
        "list_sentence"
      ],
      "metadata": {
        "colab": {
          "base_uri": "https://localhost:8080/"
        },
        "id": "dFEepVwOTLza",
        "outputId": "de692fb0-3ed1-416b-b7a0-3f74cb470582"
      },
      "execution_count": 7,
      "outputs": [
        {
          "output_type": "execute_result",
          "data": {
            "text/plain": [
              "['as a term data analytics predominantly refers to an assortment of applications from basic business ',\n",
              " 'intelligence bi reporting and online analytical processing olap to various forms of advanced ',\n",
              " 'analytics in that sense its similar in nature to business analytics another umbrella term for ',\n",
              " 'approaches to analyzing data  with the difference that the latter is oriented to business uses while ',\n",
              " 'data analytics has a broader focus the expansive view of the term isnt universal though in some ',\n",
              " 'cases people use data analytics specifically to mean advanced analytics treating bi as a separate ',\n",
              " 'category data analytics initiatives can help businesses increase revenues improve operational ',\n",
              " 'efficiency optimize marketing campaigns and customer service efforts respond more quickly to ',\n",
              " 'emerging market trends and gain a competitive edge over rivals  all with the ultimate goal of ',\n",
              " 'boosting business performance depending on the particular application the data thats analyzed ',\n",
              " 'can consist of either historical records or new information that has been processed for realtime ',\n",
              " 'analytics uses in addition it can come from a mix of internal systems and external data sources at ',\n",
              " 'a high level data analytics methodologies include exploratory data analysis eda which aims to find ',\n",
              " 'patterns and relationships in data and confirmatory data analysis cda which applies statistical ',\n",
              " 'techniques to determine whether hypotheses about a data set are true or false eda is often ',\n",
              " 'compared to detective work while cda is akin to the work of a judge or jury during a court trial  a ',\n",
              " 'distinction first drawn by statistician john w tukey in his  book exploratory data analysis data ',\n",
              " 'analytics can also be separated into quantitative data analysis and qualitative data analysis the ',\n",
              " 'former involves analysis of numerical data with quantifiable variables that can be compared or ',\n",
              " 'measured statistically the qualitative approach is more interpretive  it focuses on understanding ',\n",
              " 'the content of nonnumerical data like text images audio and video including common phrases ',\n",
              " 'themes and points of view']"
            ]
          },
          "metadata": {},
          "execution_count": 7
        }
      ]
    },
    {
      "cell_type": "code",
      "source": [
        "#Number of list\n",
        "number_of_list = len(list_sentence)\n",
        "number_of_list"
      ],
      "metadata": {
        "colab": {
          "base_uri": "https://localhost:8080/"
        },
        "id": "t89oRQAAFvDJ",
        "outputId": "fdf3a5da-5784-4f46-da01-3aefaf550e36"
      },
      "execution_count": 8,
      "outputs": [
        {
          "output_type": "execute_result",
          "data": {
            "text/plain": [
              "22"
            ]
          },
          "metadata": {},
          "execution_count": 8
        }
      ]
    },
    {
      "cell_type": "code",
      "source": [
        "#Remove stop words and tokenization\n",
        "import nltk\n",
        "from nltk.corpus import stopwords\n",
        "from nltk.tokenize import word_tokenize\n",
        "\n",
        "nltk.download(\"stopwords\")\n",
        "nltk.download(\"punkt\")\n",
        "\n",
        "from nltk.tokenize import word_tokenize\n",
        "tokens = word_tokenize(sentences)\n",
        "\n",
        "stop_words = set(stopwords.words(\"english\"))\n",
        "result = [i for i in tokens if not i in stop_words]\n",
        "#count word\n",
        "import collections \n",
        "from collections import Counter\n",
        "\n",
        "word_count_dict = Counter(result)\n",
        "word_count_dict.most_common()"
      ],
      "metadata": {
        "colab": {
          "base_uri": "https://localhost:8080/"
        },
        "id": "YCKBv-fbyqw3",
        "outputId": "5450c747-8b4d-4cf3-8444-68918bf74819"
      },
      "execution_count": 9,
      "outputs": [
        {
          "output_type": "stream",
          "name": "stderr",
          "text": [
            "[nltk_data] Downloading package stopwords to /root/nltk_data...\n",
            "[nltk_data]   Unzipping corpora/stopwords.zip.\n",
            "[nltk_data] Downloading package punkt to /root/nltk_data...\n",
            "[nltk_data]   Unzipping tokenizers/punkt.zip.\n"
          ]
        },
        {
          "output_type": "execute_result",
          "data": {
            "text/plain": [
              "[('data', 18),\n",
              " ('analytics', 10),\n",
              " ('analysis', 6),\n",
              " ('business', 4),\n",
              " ('term', 3),\n",
              " ('bi', 2),\n",
              " ('advanced', 2),\n",
              " ('uses', 2),\n",
              " ('view', 2),\n",
              " ('exploratory', 2),\n",
              " ('eda', 2),\n",
              " ('cda', 2),\n",
              " ('compared', 2),\n",
              " ('work', 2),\n",
              " ('qualitative', 2),\n",
              " ('predominantly', 1),\n",
              " ('refers', 1),\n",
              " ('assortment', 1),\n",
              " ('applications', 1),\n",
              " ('basic', 1),\n",
              " ('intelligence', 1),\n",
              " ('reporting', 1),\n",
              " ('online', 1),\n",
              " ('analytical', 1),\n",
              " ('processing', 1),\n",
              " ('olap', 1),\n",
              " ('various', 1),\n",
              " ('forms', 1),\n",
              " ('sense', 1),\n",
              " ('similar', 1),\n",
              " ('nature', 1),\n",
              " ('another', 1),\n",
              " ('umbrella', 1),\n",
              " ('approaches', 1),\n",
              " ('analyzing', 1),\n",
              " ('difference', 1),\n",
              " ('latter', 1),\n",
              " ('oriented', 1),\n",
              " ('broader', 1),\n",
              " ('focus', 1),\n",
              " ('expansive', 1),\n",
              " ('isnt', 1),\n",
              " ('universal', 1),\n",
              " ('though', 1),\n",
              " ('cases', 1),\n",
              " ('people', 1),\n",
              " ('use', 1),\n",
              " ('specifically', 1),\n",
              " ('mean', 1),\n",
              " ('treating', 1),\n",
              " ('separate', 1),\n",
              " ('category', 1),\n",
              " ('initiatives', 1),\n",
              " ('help', 1),\n",
              " ('businesses', 1),\n",
              " ('increase', 1),\n",
              " ('revenues', 1),\n",
              " ('improve', 1),\n",
              " ('operational', 1),\n",
              " ('efficiency', 1),\n",
              " ('optimize', 1),\n",
              " ('marketing', 1),\n",
              " ('campaigns', 1),\n",
              " ('customer', 1),\n",
              " ('service', 1),\n",
              " ('efforts', 1),\n",
              " ('respond', 1),\n",
              " ('quickly', 1),\n",
              " ('emerging', 1),\n",
              " ('market', 1),\n",
              " ('trends', 1),\n",
              " ('gain', 1),\n",
              " ('competitive', 1),\n",
              " ('edge', 1),\n",
              " ('rivals', 1),\n",
              " ('ultimate', 1),\n",
              " ('goal', 1),\n",
              " ('boosting', 1),\n",
              " ('performance', 1),\n",
              " ('depending', 1),\n",
              " ('particular', 1),\n",
              " ('application', 1),\n",
              " ('thats', 1),\n",
              " ('analyzed', 1),\n",
              " ('consist', 1),\n",
              " ('either', 1),\n",
              " ('historical', 1),\n",
              " ('records', 1),\n",
              " ('new', 1),\n",
              " ('information', 1),\n",
              " ('processed', 1),\n",
              " ('realtime', 1),\n",
              " ('addition', 1),\n",
              " ('come', 1),\n",
              " ('mix', 1),\n",
              " ('internal', 1),\n",
              " ('systems', 1),\n",
              " ('external', 1),\n",
              " ('sources', 1),\n",
              " ('high', 1),\n",
              " ('level', 1),\n",
              " ('methodologies', 1),\n",
              " ('include', 1),\n",
              " ('aims', 1),\n",
              " ('find', 1),\n",
              " ('patterns', 1),\n",
              " ('relationships', 1),\n",
              " ('confirmatory', 1),\n",
              " ('applies', 1),\n",
              " ('statistical', 1),\n",
              " ('techniques', 1),\n",
              " ('determine', 1),\n",
              " ('whether', 1),\n",
              " ('hypotheses', 1),\n",
              " ('set', 1),\n",
              " ('true', 1),\n",
              " ('false', 1),\n",
              " ('often', 1),\n",
              " ('detective', 1),\n",
              " ('akin', 1),\n",
              " ('judge', 1),\n",
              " ('jury', 1),\n",
              " ('court', 1),\n",
              " ('trial', 1),\n",
              " ('distinction', 1),\n",
              " ('first', 1),\n",
              " ('drawn', 1),\n",
              " ('statistician', 1),\n",
              " ('john', 1),\n",
              " ('w', 1),\n",
              " ('tukey', 1),\n",
              " ('book', 1),\n",
              " ('also', 1),\n",
              " ('separated', 1),\n",
              " ('quantitative', 1),\n",
              " ('former', 1),\n",
              " ('involves', 1),\n",
              " ('numerical', 1),\n",
              " ('quantifiable', 1),\n",
              " ('variables', 1),\n",
              " ('measured', 1),\n",
              " ('statistically', 1),\n",
              " ('approach', 1),\n",
              " ('interpretive', 1),\n",
              " ('focuses', 1),\n",
              " ('understanding', 1),\n",
              " ('content', 1),\n",
              " ('nonnumerical', 1),\n",
              " ('like', 1),\n",
              " ('text', 1),\n",
              " ('images', 1),\n",
              " ('audio', 1),\n",
              " ('video', 1),\n",
              " ('including', 1),\n",
              " ('common', 1),\n",
              " ('phrases', 1),\n",
              " ('themes', 1),\n",
              " ('points', 1)]"
            ]
          },
          "metadata": {},
          "execution_count": 9
        }
      ]
    },
    {
      "cell_type": "code",
      "source": [
        "def tokenize(string):\n",
        "    return re.compile('\\w+').findall(string)\n",
        "\n",
        "from collections import Counter\n",
        "\n",
        "def word_freq(string): \n",
        "    text = tokenize(string.lower())\n",
        "    c = Counter(text)           # count the words\n",
        "    d = Counter(''.join(text))  # count all letters\n",
        "    return (dict(c),dict(d))    # return a tuple of counted words and letters\n",
        "\n",
        "\n",
        "words, letters = word_freq(sentences) # count and get dicts with counts\n",
        "\n",
        "#For the use of question (b)\n",
        "def word_freq2(string): \n",
        "    text = tokenize(string.lower())\n",
        "    c = Counter(text)           # count the words\n",
        "    return (dict(c))    # return a tuple of counted words\n",
        "\n",
        "words = word_freq2(sentences) # count and get dicts with counts\n",
        "\n",
        "sumWords = sum(words.values())       # sum total words\n",
        "sumLetters = sum(letters.values())   # sum total letters\n",
        "\n",
        "# calculate or print probability of word\n",
        "for w in words:\n",
        "    print(\"Probability of '{}': {}\".format(w,words[w]/sumWords))"
      ],
      "metadata": {
        "colab": {
          "base_uri": "https://localhost:8080/"
        },
        "id": "L0SEbd7-2VJW",
        "outputId": "92fef60a-fdf8-452e-b294-4756f16978d9"
      },
      "execution_count": 10,
      "outputs": [
        {
          "output_type": "stream",
          "name": "stdout",
          "text": [
            "Probability of 'as': 0.006369426751592357\n",
            "Probability of 'a': 0.03184713375796178\n",
            "Probability of 'term': 0.009554140127388535\n",
            "Probability of 'data': 0.05732484076433121\n",
            "Probability of 'analytics': 0.03184713375796178\n",
            "Probability of 'predominantly': 0.0031847133757961785\n",
            "Probability of 'refers': 0.0031847133757961785\n",
            "Probability of 'to': 0.03503184713375796\n",
            "Probability of 'an': 0.0031847133757961785\n",
            "Probability of 'assortment': 0.0031847133757961785\n",
            "Probability of 'of': 0.03184713375796178\n",
            "Probability of 'applications': 0.0031847133757961785\n",
            "Probability of 'from': 0.006369426751592357\n",
            "Probability of 'basic': 0.0031847133757961785\n",
            "Probability of 'business': 0.012738853503184714\n",
            "Probability of 'intelligence': 0.0031847133757961785\n",
            "Probability of 'bi': 0.006369426751592357\n",
            "Probability of 'reporting': 0.0031847133757961785\n",
            "Probability of 'and': 0.028662420382165606\n",
            "Probability of 'online': 0.0031847133757961785\n",
            "Probability of 'analytical': 0.0031847133757961785\n",
            "Probability of 'processing': 0.0031847133757961785\n",
            "Probability of 'olap': 0.0031847133757961785\n",
            "Probability of 'various': 0.0031847133757961785\n",
            "Probability of 'forms': 0.0031847133757961785\n",
            "Probability of 'advanced': 0.006369426751592357\n",
            "Probability of 'in': 0.01910828025477707\n",
            "Probability of 'that': 0.012738853503184714\n",
            "Probability of 'sense': 0.0031847133757961785\n",
            "Probability of 'its': 0.0031847133757961785\n",
            "Probability of 'similar': 0.0031847133757961785\n",
            "Probability of 'nature': 0.0031847133757961785\n",
            "Probability of 'another': 0.0031847133757961785\n",
            "Probability of 'umbrella': 0.0031847133757961785\n",
            "Probability of 'for': 0.006369426751592357\n",
            "Probability of 'approaches': 0.0031847133757961785\n",
            "Probability of 'analyzing': 0.0031847133757961785\n",
            "Probability of 'with': 0.009554140127388535\n",
            "Probability of 'the': 0.03503184713375796\n",
            "Probability of 'difference': 0.0031847133757961785\n",
            "Probability of 'latter': 0.0031847133757961785\n",
            "Probability of 'is': 0.012738853503184714\n",
            "Probability of 'oriented': 0.0031847133757961785\n",
            "Probability of 'uses': 0.006369426751592357\n",
            "Probability of 'while': 0.006369426751592357\n",
            "Probability of 'has': 0.006369426751592357\n",
            "Probability of 'broader': 0.0031847133757961785\n",
            "Probability of 'focus': 0.0031847133757961785\n",
            "Probability of 'expansive': 0.0031847133757961785\n",
            "Probability of 'view': 0.006369426751592357\n",
            "Probability of 'isnt': 0.0031847133757961785\n",
            "Probability of 'universal': 0.0031847133757961785\n",
            "Probability of 'though': 0.0031847133757961785\n",
            "Probability of 'some': 0.0031847133757961785\n",
            "Probability of 'cases': 0.0031847133757961785\n",
            "Probability of 'people': 0.0031847133757961785\n",
            "Probability of 'use': 0.0031847133757961785\n",
            "Probability of 'specifically': 0.0031847133757961785\n",
            "Probability of 'mean': 0.0031847133757961785\n",
            "Probability of 'treating': 0.0031847133757961785\n",
            "Probability of 'separate': 0.0031847133757961785\n",
            "Probability of 'category': 0.0031847133757961785\n",
            "Probability of 'initiatives': 0.0031847133757961785\n",
            "Probability of 'can': 0.01592356687898089\n",
            "Probability of 'help': 0.0031847133757961785\n",
            "Probability of 'businesses': 0.0031847133757961785\n",
            "Probability of 'increase': 0.0031847133757961785\n",
            "Probability of 'revenues': 0.0031847133757961785\n",
            "Probability of 'improve': 0.0031847133757961785\n",
            "Probability of 'operational': 0.0031847133757961785\n",
            "Probability of 'efficiency': 0.0031847133757961785\n",
            "Probability of 'optimize': 0.0031847133757961785\n",
            "Probability of 'marketing': 0.0031847133757961785\n",
            "Probability of 'campaigns': 0.0031847133757961785\n",
            "Probability of 'customer': 0.0031847133757961785\n",
            "Probability of 'service': 0.0031847133757961785\n",
            "Probability of 'efforts': 0.0031847133757961785\n",
            "Probability of 'respond': 0.0031847133757961785\n",
            "Probability of 'more': 0.006369426751592357\n",
            "Probability of 'quickly': 0.0031847133757961785\n",
            "Probability of 'emerging': 0.0031847133757961785\n",
            "Probability of 'market': 0.0031847133757961785\n",
            "Probability of 'trends': 0.0031847133757961785\n",
            "Probability of 'gain': 0.0031847133757961785\n",
            "Probability of 'competitive': 0.0031847133757961785\n",
            "Probability of 'edge': 0.0031847133757961785\n",
            "Probability of 'over': 0.0031847133757961785\n",
            "Probability of 'rivals': 0.0031847133757961785\n",
            "Probability of 'all': 0.0031847133757961785\n",
            "Probability of 'ultimate': 0.0031847133757961785\n",
            "Probability of 'goal': 0.0031847133757961785\n",
            "Probability of 'boosting': 0.0031847133757961785\n",
            "Probability of 'performance': 0.0031847133757961785\n",
            "Probability of 'depending': 0.0031847133757961785\n",
            "Probability of 'on': 0.006369426751592357\n",
            "Probability of 'particular': 0.0031847133757961785\n",
            "Probability of 'application': 0.0031847133757961785\n",
            "Probability of 'thats': 0.0031847133757961785\n",
            "Probability of 'analyzed': 0.0031847133757961785\n",
            "Probability of 'consist': 0.0031847133757961785\n",
            "Probability of 'either': 0.0031847133757961785\n",
            "Probability of 'historical': 0.0031847133757961785\n",
            "Probability of 'records': 0.0031847133757961785\n",
            "Probability of 'or': 0.012738853503184714\n",
            "Probability of 'new': 0.0031847133757961785\n",
            "Probability of 'information': 0.0031847133757961785\n",
            "Probability of 'been': 0.0031847133757961785\n",
            "Probability of 'processed': 0.0031847133757961785\n",
            "Probability of 'realtime': 0.0031847133757961785\n",
            "Probability of 'addition': 0.0031847133757961785\n",
            "Probability of 'it': 0.006369426751592357\n",
            "Probability of 'come': 0.0031847133757961785\n",
            "Probability of 'mix': 0.0031847133757961785\n",
            "Probability of 'internal': 0.0031847133757961785\n",
            "Probability of 'systems': 0.0031847133757961785\n",
            "Probability of 'external': 0.0031847133757961785\n",
            "Probability of 'sources': 0.0031847133757961785\n",
            "Probability of 'at': 0.0031847133757961785\n",
            "Probability of 'high': 0.0031847133757961785\n",
            "Probability of 'level': 0.0031847133757961785\n",
            "Probability of 'methodologies': 0.0031847133757961785\n",
            "Probability of 'include': 0.0031847133757961785\n",
            "Probability of 'exploratory': 0.006369426751592357\n",
            "Probability of 'analysis': 0.01910828025477707\n",
            "Probability of 'eda': 0.006369426751592357\n",
            "Probability of 'which': 0.006369426751592357\n",
            "Probability of 'aims': 0.0031847133757961785\n",
            "Probability of 'find': 0.0031847133757961785\n",
            "Probability of 'patterns': 0.0031847133757961785\n",
            "Probability of 'relationships': 0.0031847133757961785\n",
            "Probability of 'confirmatory': 0.0031847133757961785\n",
            "Probability of 'cda': 0.006369426751592357\n",
            "Probability of 'applies': 0.0031847133757961785\n",
            "Probability of 'statistical': 0.0031847133757961785\n",
            "Probability of 'techniques': 0.0031847133757961785\n",
            "Probability of 'determine': 0.0031847133757961785\n",
            "Probability of 'whether': 0.0031847133757961785\n",
            "Probability of 'hypotheses': 0.0031847133757961785\n",
            "Probability of 'about': 0.0031847133757961785\n",
            "Probability of 'set': 0.0031847133757961785\n",
            "Probability of 'are': 0.0031847133757961785\n",
            "Probability of 'true': 0.0031847133757961785\n",
            "Probability of 'false': 0.0031847133757961785\n",
            "Probability of 'often': 0.0031847133757961785\n",
            "Probability of 'compared': 0.006369426751592357\n",
            "Probability of 'detective': 0.0031847133757961785\n",
            "Probability of 'work': 0.006369426751592357\n",
            "Probability of 'akin': 0.0031847133757961785\n",
            "Probability of 'judge': 0.0031847133757961785\n",
            "Probability of 'jury': 0.0031847133757961785\n",
            "Probability of 'during': 0.0031847133757961785\n",
            "Probability of 'court': 0.0031847133757961785\n",
            "Probability of 'trial': 0.0031847133757961785\n",
            "Probability of 'distinction': 0.0031847133757961785\n",
            "Probability of 'first': 0.0031847133757961785\n",
            "Probability of 'drawn': 0.0031847133757961785\n",
            "Probability of 'by': 0.0031847133757961785\n",
            "Probability of 'statistician': 0.0031847133757961785\n",
            "Probability of 'john': 0.0031847133757961785\n",
            "Probability of 'w': 0.0031847133757961785\n",
            "Probability of 'tukey': 0.0031847133757961785\n",
            "Probability of 'his': 0.0031847133757961785\n",
            "Probability of 'book': 0.0031847133757961785\n",
            "Probability of 'also': 0.0031847133757961785\n",
            "Probability of 'be': 0.006369426751592357\n",
            "Probability of 'separated': 0.0031847133757961785\n",
            "Probability of 'into': 0.0031847133757961785\n",
            "Probability of 'quantitative': 0.0031847133757961785\n",
            "Probability of 'qualitative': 0.006369426751592357\n",
            "Probability of 'former': 0.0031847133757961785\n",
            "Probability of 'involves': 0.0031847133757961785\n",
            "Probability of 'numerical': 0.0031847133757961785\n",
            "Probability of 'quantifiable': 0.0031847133757961785\n",
            "Probability of 'variables': 0.0031847133757961785\n",
            "Probability of 'measured': 0.0031847133757961785\n",
            "Probability of 'statistically': 0.0031847133757961785\n",
            "Probability of 'approach': 0.0031847133757961785\n",
            "Probability of 'interpretive': 0.0031847133757961785\n",
            "Probability of 'focuses': 0.0031847133757961785\n",
            "Probability of 'understanding': 0.0031847133757961785\n",
            "Probability of 'content': 0.0031847133757961785\n",
            "Probability of 'nonnumerical': 0.0031847133757961785\n",
            "Probability of 'like': 0.0031847133757961785\n",
            "Probability of 'text': 0.0031847133757961785\n",
            "Probability of 'images': 0.0031847133757961785\n",
            "Probability of 'audio': 0.0031847133757961785\n",
            "Probability of 'video': 0.0031847133757961785\n",
            "Probability of 'including': 0.0031847133757961785\n",
            "Probability of 'common': 0.0031847133757961785\n",
            "Probability of 'phrases': 0.0031847133757961785\n",
            "Probability of 'themes': 0.0031847133757961785\n",
            "Probability of 'points': 0.0031847133757961785\n"
          ]
        }
      ]
    },
    {
      "cell_type": "code",
      "source": [
        "# calculate or print probability of letter\n",
        "for l in letters:\n",
        "    print(\"Probability of '{}': {}\".format(l,letters[l]/sumLetters))"
      ],
      "metadata": {
        "colab": {
          "base_uri": "https://localhost:8080/"
        },
        "id": "fwKqkdL1yOn3",
        "outputId": "acbdae63-769c-439d-b026-f0b685f5004e"
      },
      "execution_count": 11,
      "outputs": [
        {
          "output_type": "stream",
          "name": "stdout",
          "text": [
            "Probability of 'a': 0.12122969837587007\n",
            "Probability of 's': 0.07540603248259861\n",
            "Probability of 't': 0.0951276102088167\n",
            "Probability of 'e': 0.10266821345707657\n",
            "Probability of 'r': 0.0568445475638051\n",
            "Probability of 'm': 0.02494199535962877\n",
            "Probability of 'd': 0.0388631090487239\n",
            "Probability of 'n': 0.07424593967517401\n",
            "Probability of 'l': 0.04234338747099768\n",
            "Probability of 'y': 0.0191415313225058\n",
            "Probability of 'i': 0.08932714617169374\n",
            "Probability of 'c': 0.03944315545243619\n",
            "Probability of 'p': 0.023781902552204175\n",
            "Probability of 'o': 0.06322505800464037\n",
            "Probability of 'f': 0.019721577726218097\n",
            "Probability of 'b': 0.011020881670533642\n",
            "Probability of 'u': 0.02320185614849188\n",
            "Probability of 'g': 0.01334106728538283\n",
            "Probability of 'v': 0.013921113689095127\n",
            "Probability of 'h': 0.027842227378190254\n",
            "Probability of 'z': 0.0017401392111368909\n",
            "Probability of 'w': 0.008700696055684454\n",
            "Probability of 'x': 0.0034802784222737818\n",
            "Probability of 'k': 0.005220417633410673\n",
            "Probability of 'q': 0.0034802784222737818\n",
            "Probability of 'j': 0.0017401392111368909\n"
          ]
        }
      ]
    },
    {
      "cell_type": "code",
      "source": [
        "#Number of \"data\" word\n",
        "count_data_word = words['data']\n",
        "count_data_word"
      ],
      "metadata": {
        "colab": {
          "base_uri": "https://localhost:8080/"
        },
        "id": "-rkjO4ANOX4U",
        "outputId": "e4aa77a6-0def-49de-e6f4-5a7175a950b0"
      },
      "execution_count": 12,
      "outputs": [
        {
          "output_type": "execute_result",
          "data": {
            "text/plain": [
              "18"
            ]
          },
          "metadata": {},
          "execution_count": 12
        }
      ]
    },
    {
      "cell_type": "code",
      "source": [
        "#Probability of the word “data” occurring in each line\n",
        "print(count_data_word/number_of_list)"
      ],
      "metadata": {
        "colab": {
          "base_uri": "https://localhost:8080/"
        },
        "id": "ZNFTPUnGV63C",
        "outputId": "e292fab4-8dc5-457d-deb4-dd8de8562a73"
      },
      "execution_count": 13,
      "outputs": [
        {
          "output_type": "stream",
          "name": "stdout",
          "text": [
            "0.8181818181818182\n"
          ]
        }
      ]
    },
    {
      "cell_type": "markdown",
      "source": [
        "Answer: Probability of the word “data” occurring in each line is 0.8182."
      ],
      "metadata": {
        "id": "OoLb7JvmYr5B"
      }
    },
    {
      "cell_type": "markdown",
      "source": [
        "b. What is the distribution of distinct word counts across all the lines ?"
      ],
      "metadata": {
        "id": "cjfkyXg-RvC4"
      }
    },
    {
      "cell_type": "code",
      "source": [
        "#Find distinct/unique words\n",
        "uniqueWords = [] \n",
        "for i in list_sentence:\n",
        "      if not i in uniqueWords:\n",
        "          uniqueWords.append(len(word_freq2(i)));  "
      ],
      "metadata": {
        "id": "_cf7hsK3mAJV"
      },
      "execution_count": 14,
      "outputs": []
    },
    {
      "cell_type": "code",
      "source": [
        "#Print distinct/unique words\n",
        "uniqueWords"
      ],
      "metadata": {
        "colab": {
          "base_uri": "https://localhost:8080/"
        },
        "id": "W29sAchUpBYk",
        "outputId": "e4572c11-6341-4292-8c0c-0b27b8c0fa0e"
      },
      "execution_count": 15,
      "outputs": [
        {
          "output_type": "execute_result",
          "data": {
            "text/plain": [
              "[15,\n",
              " 13,\n",
              " 13,\n",
              " 14,\n",
              " 16,\n",
              " 14,\n",
              " 11,\n",
              " 12,\n",
              " 16,\n",
              " 11,\n",
              " 15,\n",
              " 18,\n",
              " 14,\n",
              " 11,\n",
              " 16,\n",
              " 17,\n",
              " 14,\n",
              " 12,\n",
              " 14,\n",
              " 12,\n",
              " 14,\n",
              " 5]"
            ]
          },
          "metadata": {},
          "execution_count": 15
        }
      ]
    },
    {
      "cell_type": "markdown",
      "source": [
        "Answer: The distribution of distinct word counts across all the lines are: <br>\n",
        "1st line: 15 <br>\n",
        "2nd line: 13 <br>\n",
        "3rd line: 13<br>\n",
        "4th line: 14<br>\n",
        "5th line: 16<br>\n",
        "6th line: 14<br>\n",
        "7th line: 11<br>\n",
        "8th line: 12<br>\n",
        "9th line: 16<br>\n",
        "10th line: 11<br>\n",
        "11th line: 15<br>\n",
        "12th line: 18<br>\n",
        "13th line: 14<br>\n",
        "14th line: 11<br>\n",
        "15th line: 16<br>\n",
        "16th line: 17<br>\n",
        "17th line: 14<br>\n",
        "18th line: 12<br>\n",
        "19th line: 14<br>\n",
        "20th line: 12<br>\n",
        "21th line: 14<br>\n",
        "22th line: 5<br>\n",
        " "
      ],
      "metadata": {
        "id": "nuaY9MGSlEFn"
      }
    },
    {
      "cell_type": "markdown",
      "source": [
        "c. What is the probability of the word “analytics” occurring after the word “data” ?"
      ],
      "metadata": {
        "id": "kDpYUCNesMQh"
      }
    },
    {
      "cell_type": "code",
      "source": [
        "import nltk \n",
        "from nltk import word_tokenize\n",
        "from nltk.util import ngrams"
      ],
      "metadata": {
        "id": "lrqI96kK09x3"
      },
      "execution_count": 16,
      "outputs": []
    },
    {
      "cell_type": "code",
      "source": [
        "#Create bigrams \n",
        "bigrams = list(ngrams(tokens, 2))\n",
        "bigrams"
      ],
      "metadata": {
        "colab": {
          "base_uri": "https://localhost:8080/"
        },
        "id": "gpqLf1CBL6gn",
        "outputId": "88a01eff-9b9c-4c4b-b431-95c2882ec7aa"
      },
      "execution_count": 17,
      "outputs": [
        {
          "output_type": "execute_result",
          "data": {
            "text/plain": [
              "[('as', 'a'),\n",
              " ('a', 'term'),\n",
              " ('term', 'data'),\n",
              " ('data', 'analytics'),\n",
              " ('analytics', 'predominantly'),\n",
              " ('predominantly', 'refers'),\n",
              " ('refers', 'to'),\n",
              " ('to', 'an'),\n",
              " ('an', 'assortment'),\n",
              " ('assortment', 'of'),\n",
              " ('of', 'applications'),\n",
              " ('applications', 'from'),\n",
              " ('from', 'basic'),\n",
              " ('basic', 'business'),\n",
              " ('business', 'intelligence'),\n",
              " ('intelligence', 'bi'),\n",
              " ('bi', 'reporting'),\n",
              " ('reporting', 'and'),\n",
              " ('and', 'online'),\n",
              " ('online', 'analytical'),\n",
              " ('analytical', 'processing'),\n",
              " ('processing', 'olap'),\n",
              " ('olap', 'to'),\n",
              " ('to', 'various'),\n",
              " ('various', 'forms'),\n",
              " ('forms', 'of'),\n",
              " ('of', 'advanced'),\n",
              " ('advanced', 'analytics'),\n",
              " ('analytics', 'in'),\n",
              " ('in', 'that'),\n",
              " ('that', 'sense'),\n",
              " ('sense', 'its'),\n",
              " ('its', 'similar'),\n",
              " ('similar', 'in'),\n",
              " ('in', 'nature'),\n",
              " ('nature', 'to'),\n",
              " ('to', 'business'),\n",
              " ('business', 'analytics'),\n",
              " ('analytics', 'another'),\n",
              " ('another', 'umbrella'),\n",
              " ('umbrella', 'term'),\n",
              " ('term', 'for'),\n",
              " ('for', 'approaches'),\n",
              " ('approaches', 'to'),\n",
              " ('to', 'analyzing'),\n",
              " ('analyzing', 'data'),\n",
              " ('data', 'with'),\n",
              " ('with', 'the'),\n",
              " ('the', 'difference'),\n",
              " ('difference', 'that'),\n",
              " ('that', 'the'),\n",
              " ('the', 'latter'),\n",
              " ('latter', 'is'),\n",
              " ('is', 'oriented'),\n",
              " ('oriented', 'to'),\n",
              " ('to', 'business'),\n",
              " ('business', 'uses'),\n",
              " ('uses', 'while'),\n",
              " ('while', 'data'),\n",
              " ('data', 'analytics'),\n",
              " ('analytics', 'has'),\n",
              " ('has', 'a'),\n",
              " ('a', 'broader'),\n",
              " ('broader', 'focus'),\n",
              " ('focus', 'the'),\n",
              " ('the', 'expansive'),\n",
              " ('expansive', 'view'),\n",
              " ('view', 'of'),\n",
              " ('of', 'the'),\n",
              " ('the', 'term'),\n",
              " ('term', 'isnt'),\n",
              " ('isnt', 'universal'),\n",
              " ('universal', 'though'),\n",
              " ('though', 'in'),\n",
              " ('in', 'some'),\n",
              " ('some', 'cases'),\n",
              " ('cases', 'people'),\n",
              " ('people', 'use'),\n",
              " ('use', 'data'),\n",
              " ('data', 'analytics'),\n",
              " ('analytics', 'specifically'),\n",
              " ('specifically', 'to'),\n",
              " ('to', 'mean'),\n",
              " ('mean', 'advanced'),\n",
              " ('advanced', 'analytics'),\n",
              " ('analytics', 'treating'),\n",
              " ('treating', 'bi'),\n",
              " ('bi', 'as'),\n",
              " ('as', 'a'),\n",
              " ('a', 'separate'),\n",
              " ('separate', 'category'),\n",
              " ('category', 'data'),\n",
              " ('data', 'analytics'),\n",
              " ('analytics', 'initiatives'),\n",
              " ('initiatives', 'can'),\n",
              " ('can', 'help'),\n",
              " ('help', 'businesses'),\n",
              " ('businesses', 'increase'),\n",
              " ('increase', 'revenues'),\n",
              " ('revenues', 'improve'),\n",
              " ('improve', 'operational'),\n",
              " ('operational', 'efficiency'),\n",
              " ('efficiency', 'optimize'),\n",
              " ('optimize', 'marketing'),\n",
              " ('marketing', 'campaigns'),\n",
              " ('campaigns', 'and'),\n",
              " ('and', 'customer'),\n",
              " ('customer', 'service'),\n",
              " ('service', 'efforts'),\n",
              " ('efforts', 'respond'),\n",
              " ('respond', 'more'),\n",
              " ('more', 'quickly'),\n",
              " ('quickly', 'to'),\n",
              " ('to', 'emerging'),\n",
              " ('emerging', 'market'),\n",
              " ('market', 'trends'),\n",
              " ('trends', 'and'),\n",
              " ('and', 'gain'),\n",
              " ('gain', 'a'),\n",
              " ('a', 'competitive'),\n",
              " ('competitive', 'edge'),\n",
              " ('edge', 'over'),\n",
              " ('over', 'rivals'),\n",
              " ('rivals', 'all'),\n",
              " ('all', 'with'),\n",
              " ('with', 'the'),\n",
              " ('the', 'ultimate'),\n",
              " ('ultimate', 'goal'),\n",
              " ('goal', 'of'),\n",
              " ('of', 'boosting'),\n",
              " ('boosting', 'business'),\n",
              " ('business', 'performance'),\n",
              " ('performance', 'depending'),\n",
              " ('depending', 'on'),\n",
              " ('on', 'the'),\n",
              " ('the', 'particular'),\n",
              " ('particular', 'application'),\n",
              " ('application', 'the'),\n",
              " ('the', 'data'),\n",
              " ('data', 'thats'),\n",
              " ('thats', 'analyzed'),\n",
              " ('analyzed', 'can'),\n",
              " ('can', 'consist'),\n",
              " ('consist', 'of'),\n",
              " ('of', 'either'),\n",
              " ('either', 'historical'),\n",
              " ('historical', 'records'),\n",
              " ('records', 'or'),\n",
              " ('or', 'new'),\n",
              " ('new', 'information'),\n",
              " ('information', 'that'),\n",
              " ('that', 'has'),\n",
              " ('has', 'been'),\n",
              " ('been', 'processed'),\n",
              " ('processed', 'for'),\n",
              " ('for', 'realtime'),\n",
              " ('realtime', 'analytics'),\n",
              " ('analytics', 'uses'),\n",
              " ('uses', 'in'),\n",
              " ('in', 'addition'),\n",
              " ('addition', 'it'),\n",
              " ('it', 'can'),\n",
              " ('can', 'come'),\n",
              " ('come', 'from'),\n",
              " ('from', 'a'),\n",
              " ('a', 'mix'),\n",
              " ('mix', 'of'),\n",
              " ('of', 'internal'),\n",
              " ('internal', 'systems'),\n",
              " ('systems', 'and'),\n",
              " ('and', 'external'),\n",
              " ('external', 'data'),\n",
              " ('data', 'sources'),\n",
              " ('sources', 'at'),\n",
              " ('at', 'a'),\n",
              " ('a', 'high'),\n",
              " ('high', 'level'),\n",
              " ('level', 'data'),\n",
              " ('data', 'analytics'),\n",
              " ('analytics', 'methodologies'),\n",
              " ('methodologies', 'include'),\n",
              " ('include', 'exploratory'),\n",
              " ('exploratory', 'data'),\n",
              " ('data', 'analysis'),\n",
              " ('analysis', 'eda'),\n",
              " ('eda', 'which'),\n",
              " ('which', 'aims'),\n",
              " ('aims', 'to'),\n",
              " ('to', 'find'),\n",
              " ('find', 'patterns'),\n",
              " ('patterns', 'and'),\n",
              " ('and', 'relationships'),\n",
              " ('relationships', 'in'),\n",
              " ('in', 'data'),\n",
              " ('data', 'and'),\n",
              " ('and', 'confirmatory'),\n",
              " ('confirmatory', 'data'),\n",
              " ('data', 'analysis'),\n",
              " ('analysis', 'cda'),\n",
              " ('cda', 'which'),\n",
              " ('which', 'applies'),\n",
              " ('applies', 'statistical'),\n",
              " ('statistical', 'techniques'),\n",
              " ('techniques', 'to'),\n",
              " ('to', 'determine'),\n",
              " ('determine', 'whether'),\n",
              " ('whether', 'hypotheses'),\n",
              " ('hypotheses', 'about'),\n",
              " ('about', 'a'),\n",
              " ('a', 'data'),\n",
              " ('data', 'set'),\n",
              " ('set', 'are'),\n",
              " ('are', 'true'),\n",
              " ('true', 'or'),\n",
              " ('or', 'false'),\n",
              " ('false', 'eda'),\n",
              " ('eda', 'is'),\n",
              " ('is', 'often'),\n",
              " ('often', 'compared'),\n",
              " ('compared', 'to'),\n",
              " ('to', 'detective'),\n",
              " ('detective', 'work'),\n",
              " ('work', 'while'),\n",
              " ('while', 'cda'),\n",
              " ('cda', 'is'),\n",
              " ('is', 'akin'),\n",
              " ('akin', 'to'),\n",
              " ('to', 'the'),\n",
              " ('the', 'work'),\n",
              " ('work', 'of'),\n",
              " ('of', 'a'),\n",
              " ('a', 'judge'),\n",
              " ('judge', 'or'),\n",
              " ('or', 'jury'),\n",
              " ('jury', 'during'),\n",
              " ('during', 'a'),\n",
              " ('a', 'court'),\n",
              " ('court', 'trial'),\n",
              " ('trial', 'a'),\n",
              " ('a', 'distinction'),\n",
              " ('distinction', 'first'),\n",
              " ('first', 'drawn'),\n",
              " ('drawn', 'by'),\n",
              " ('by', 'statistician'),\n",
              " ('statistician', 'john'),\n",
              " ('john', 'w'),\n",
              " ('w', 'tukey'),\n",
              " ('tukey', 'in'),\n",
              " ('in', 'his'),\n",
              " ('his', 'book'),\n",
              " ('book', 'exploratory'),\n",
              " ('exploratory', 'data'),\n",
              " ('data', 'analysis'),\n",
              " ('analysis', 'data'),\n",
              " ('data', 'analytics'),\n",
              " ('analytics', 'can'),\n",
              " ('can', 'also'),\n",
              " ('also', 'be'),\n",
              " ('be', 'separated'),\n",
              " ('separated', 'into'),\n",
              " ('into', 'quantitative'),\n",
              " ('quantitative', 'data'),\n",
              " ('data', 'analysis'),\n",
              " ('analysis', 'and'),\n",
              " ('and', 'qualitative'),\n",
              " ('qualitative', 'data'),\n",
              " ('data', 'analysis'),\n",
              " ('analysis', 'the'),\n",
              " ('the', 'former'),\n",
              " ('former', 'involves'),\n",
              " ('involves', 'analysis'),\n",
              " ('analysis', 'of'),\n",
              " ('of', 'numerical'),\n",
              " ('numerical', 'data'),\n",
              " ('data', 'with'),\n",
              " ('with', 'quantifiable'),\n",
              " ('quantifiable', 'variables'),\n",
              " ('variables', 'that'),\n",
              " ('that', 'can'),\n",
              " ('can', 'be'),\n",
              " ('be', 'compared'),\n",
              " ('compared', 'or'),\n",
              " ('or', 'measured'),\n",
              " ('measured', 'statistically'),\n",
              " ('statistically', 'the'),\n",
              " ('the', 'qualitative'),\n",
              " ('qualitative', 'approach'),\n",
              " ('approach', 'is'),\n",
              " ('is', 'more'),\n",
              " ('more', 'interpretive'),\n",
              " ('interpretive', 'it'),\n",
              " ('it', 'focuses'),\n",
              " ('focuses', 'on'),\n",
              " ('on', 'understanding'),\n",
              " ('understanding', 'the'),\n",
              " ('the', 'content'),\n",
              " ('content', 'of'),\n",
              " ('of', 'nonnumerical'),\n",
              " ('nonnumerical', 'data'),\n",
              " ('data', 'like'),\n",
              " ('like', 'text'),\n",
              " ('text', 'images'),\n",
              " ('images', 'audio'),\n",
              " ('audio', 'and'),\n",
              " ('and', 'video'),\n",
              " ('video', 'including'),\n",
              " ('including', 'common'),\n",
              " ('common', 'phrases'),\n",
              " ('phrases', 'themes'),\n",
              " ('themes', 'and'),\n",
              " ('and', 'points'),\n",
              " ('points', 'of'),\n",
              " ('of', 'view')]"
            ]
          },
          "metadata": {},
          "execution_count": 17
        }
      ]
    },
    {
      "cell_type": "code",
      "source": [
        "#Calculate frequency of bigrams\n",
        "freq_bigram = nltk.FreqDist(bigrams)\n",
        "freq_bigram"
      ],
      "metadata": {
        "colab": {
          "base_uri": "https://localhost:8080/"
        },
        "id": "immTcXxnMV4v",
        "outputId": "c7a6943a-c720-4ada-cb71-9970063f45c7"
      },
      "execution_count": 18,
      "outputs": [
        {
          "output_type": "execute_result",
          "data": {
            "text/plain": [
              "FreqDist({('data', 'analytics'): 6, ('data', 'analysis'): 5, ('as', 'a'): 2, ('advanced', 'analytics'): 2, ('to', 'business'): 2, ('data', 'with'): 2, ('with', 'the'): 2, ('exploratory', 'data'): 2, ('a', 'term'): 1, ('term', 'data'): 1, ...})"
            ]
          },
          "metadata": {},
          "execution_count": 18
        }
      ]
    },
    {
      "cell_type": "code",
      "source": [
        "#List the most 10 common words\n",
        "freq_bigram.most_common(10)"
      ],
      "metadata": {
        "colab": {
          "base_uri": "https://localhost:8080/"
        },
        "id": "0IlGCHbidYBG",
        "outputId": "fa68313e-cdfe-4e56-8f06-ffa6c12d2c63"
      },
      "execution_count": 19,
      "outputs": [
        {
          "output_type": "execute_result",
          "data": {
            "text/plain": [
              "[(('data', 'analytics'), 6),\n",
              " (('data', 'analysis'), 5),\n",
              " (('as', 'a'), 2),\n",
              " (('advanced', 'analytics'), 2),\n",
              " (('to', 'business'), 2),\n",
              " (('data', 'with'), 2),\n",
              " (('with', 'the'), 2),\n",
              " (('exploratory', 'data'), 2),\n",
              " (('a', 'term'), 1),\n",
              " (('term', 'data'), 1)]"
            ]
          },
          "metadata": {},
          "execution_count": 19
        }
      ]
    },
    {
      "cell_type": "code",
      "source": [
        "#The number of word with \"analytics\"\n",
        "count_analytics_word = words['analytics']\n",
        "count_analytics_word"
      ],
      "metadata": {
        "colab": {
          "base_uri": "https://localhost:8080/"
        },
        "id": "7GmBbxaAsL3K",
        "outputId": "d17a94a0-2cab-49a2-915b-85346ddd7af6"
      },
      "execution_count": 20,
      "outputs": [
        {
          "output_type": "execute_result",
          "data": {
            "text/plain": [
              "10"
            ]
          },
          "metadata": {},
          "execution_count": 20
        }
      ]
    },
    {
      "cell_type": "code",
      "source": [
        "#Probability of the word “analytics” occurring after the word “data\"\n",
        "probabilility_dataanalytics_word =  6 /count_analytics_word\n",
        "print(probabilility_dataanalytics_word)"
      ],
      "metadata": {
        "colab": {
          "base_uri": "https://localhost:8080/"
        },
        "id": "ws5tnNJ2Zha3",
        "outputId": "28bba3d2-8459-4d95-f2fb-b3a47486db75"
      },
      "execution_count": 21,
      "outputs": [
        {
          "output_type": "stream",
          "name": "stdout",
          "text": [
            "0.6\n"
          ]
        }
      ]
    },
    {
      "cell_type": "markdown",
      "source": [
        "Answer: The probability of the word “analytics” occurring after the word “data\" is 0.6."
      ],
      "metadata": {
        "id": "RlggqnI4k8tZ"
      }
    }
  ]
}